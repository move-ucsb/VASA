{
 "cells": [
  {
   "cell_type": "code",
   "execution_count": null,
   "source": [
    "%pip install -i https://test.pypi.org/simple/ VASA==0.0.2"
   ],
   "outputs": [],
   "metadata": {}
  },
  {
   "cell_type": "code",
   "execution_count": 12,
   "source": [
    "import geopandas as gpd\n",
    "import pandas as pd\n",
    "import numpy as np\n",
    "import matplotlib.pyplot as plt\n",
    "\n",
    "from VASA import VASA"
   ],
   "outputs": [],
   "metadata": {}
  },
  {
   "cell_type": "code",
   "execution_count": 2,
   "source": [
    "# CBG Map of California\n",
    "counties_map = gpd.GeoDataFrame \\\n",
    "    .from_features(gpd.read_file(\"../data/ca_cbg\")) \\\n",
    "    .set_crs(epsg=4326) \\\n",
    "    .to_crs(\"+proj=aea +lat_1=20 +lat_2=60 +lat_0=40 +lon_0=-96 +x_0=0 +y_0=0 +datum=NAD83 +units=m +no_defs\")"
   ],
   "outputs": [],
   "metadata": {}
  },
  {
   "cell_type": "code",
   "execution_count": 4,
   "source": [
    "#Lake Fire 2019 Data\n",
    "fire2019 = pd.read_csv(\"../data/lakefire2019_data.csv\")\n",
    "fire2019.origin_census_block_group = \"0\" + fire2019.origin_census_block_group.astype(str)"
   ],
   "outputs": [],
   "metadata": {}
  },
  {
   "cell_type": "code",
   "execution_count": 5,
   "source": [
    "# Lake Fire Shapefile\n",
    "lake_fire = gpd.read_file(\"../data/lake_fire\") \\\n",
    "    .set_crs(epsg=4326) \\\n",
    "    .to_crs(\"+proj=aea +lat_1=20 +lat_2=60 +lat_0=40 +lon_0=-96 +x_0=0 +y_0=0 +datum=NAD83 +units=m +no_defs\")"
   ],
   "outputs": [],
   "metadata": {}
  },
  {
   "cell_type": "code",
   "execution_count": 6,
   "source": [
    "unique_cbgs = np.unique(fire2019.origin_census_block_group)\n",
    "unique_tracts = np.unique([g[:8] for g in unique_cbgs])\n",
    "unique_counties = np.unique([g[:5] for g in unique_tracts])"
   ],
   "outputs": [],
   "metadata": {}
  },
  {
   "cell_type": "code",
   "execution_count": 7,
   "source": [
    "tract_map = counties_map[[(cbg[:8] in unique_tracts) for cbg in counties_map.GEOID]]"
   ],
   "outputs": [],
   "metadata": {}
  },
  {
   "cell_type": "code",
   "execution_count": null,
   "source": [
    "fig, ax = plt.subplots(figsize=(10, 10))\n",
    "\n",
    "base_map = counties_map[[(cbg[:5] in unique_counties) for cbg in counties_map.GEOID]].copy()\n",
    "\n",
    "base_map[\"c\"] = \"gray\"\n",
    "base_map.loc[[(cbg[:8] in unique_tracts) for cbg in base_map.GEOID], \"c\"] = \"blue\"\n",
    "base_map.loc[[(cbg in unique_cbgs) for cbg in base_map.GEOID], \"c\"] = \"green\"\n",
    "\n",
    "base_map.plot(ax=ax, color=base_map[\"c\"])\n",
    "lake_fire.plot(ax=ax, color=\"red\")\n",
    "\n",
    "plt.savefig(\"fire_weights_filled_in_data.png\")\n",
    "plt.close(fig)"
   ],
   "outputs": [],
   "metadata": {}
  },
  {
   "cell_type": "markdown",
   "source": [
    "![data levels](fire_weights_filled_in_data.png)"
   ],
   "metadata": {}
  },
  {
   "cell_type": "code",
   "execution_count": 8,
   "source": [
    "v = VASA(\n",
    "    df=fire2019[[\"origin_census_block_group\", \"date_range_start\", \"distance_traveled_from_home\"]],\n",
    "    gdf=tract_map,\n",
    "    df_group_col=\"origin_census_block_group\",\n",
    "    gdf_group_col=\"GEOID\",\n",
    "    date_col=\"date_range_start\",\n",
    "    temp_res=\"week\",\n",
    "    date_format=\"%Y-%m-%d %H:%M:%S\" # %z\n",
    ")"
   ],
   "outputs": [],
   "metadata": {}
  },
  {
   "cell_type": "code",
   "execution_count": 9,
   "source": [
    "del fire2019"
   ],
   "outputs": [],
   "metadata": {}
  },
  {
   "cell_type": "code",
   "execution_count": 10,
   "source": [
    "v.fill_missing()"
   ],
   "outputs": [],
   "metadata": {}
  },
  {
   "cell_type": "code",
   "execution_count": 13,
   "source": [
    "fig, ax = plt.subplots(figsize=(10, 10))\n",
    "\n",
    "v.show_weights_connection(k=15, ax=ax)\n",
    "\n",
    "plt.savefig(\"k_weights.png\")\n",
    "plt.close(fig)"
   ],
   "outputs": [
    {
     "output_type": "stream",
     "name": "stderr",
     "text": [
      "/home/alex/Desktop/github/VASA/myenv/lib/python3.8/site-packages/libpysal/weights/weights.py:172: UserWarning: The weights matrix is not fully connected: \n",
      " There are 2 disconnected components.\n",
      "  warnings.warn(message)\n",
      "/home/alex/Desktop/github/VASA/myenv/lib/python3.8/site-packages/libpysal/weights/weights.py:172: UserWarning: The weights matrix is not fully connected: \n",
      " There are 8 disconnected components.\n",
      " There are 2 islands with ids: 445, 5105.\n",
      "  warnings.warn(message)\n"
     ]
    },
    {
     "output_type": "stream",
     "name": "stdout",
     "text": [
      "('WARNING: ', 445, ' is an island (no neighbors)')\n",
      "('WARNING: ', 5105, ' is an island (no neighbors)')\n"
     ]
    }
   ],
   "metadata": {}
  },
  {
   "cell_type": "markdown",
   "source": [
    "![](k_weights.png)"
   ],
   "metadata": {}
  },
  {
   "cell_type": "code",
   "execution_count": null,
   "source": [
    "v.show_weights_connection(band=10_000)"
   ],
   "outputs": [],
   "metadata": {}
  },
  {
   "cell_type": "code",
   "execution_count": 16,
   "source": [
    "fig, ax = plt.subplots(figsize=(10, 10))\n",
    "\n",
    "v.show_weights_connection(k=10, type=\"union\", ax=ax)\n",
    "\n",
    "plt.savefig(\"union_weights.png\")\n",
    "plt.close(fig)"
   ],
   "outputs": [
    {
     "output_type": "stream",
     "name": "stderr",
     "text": [
      "/home/alex/Desktop/github/VASA/myenv/lib/python3.8/site-packages/libpysal/weights/weights.py:172: UserWarning: The weights matrix is not fully connected: \n",
      " There are 2 disconnected components.\n",
      "  warnings.warn(message)\n",
      "/home/alex/Desktop/github/VASA/myenv/lib/python3.8/site-packages/libpysal/weights/weights.py:172: UserWarning: The weights matrix is not fully connected: \n",
      " There are 8 disconnected components.\n",
      " There are 2 islands with ids: 445, 5105.\n",
      "  warnings.warn(message)\n"
     ]
    },
    {
     "output_type": "stream",
     "name": "stdout",
     "text": [
      "('WARNING: ', 445, ' is an island (no neighbors)')\n",
      "('WARNING: ', 5105, ' is an island (no neighbors)')\n"
     ]
    }
   ],
   "metadata": {}
  },
  {
   "cell_type": "markdown",
   "source": [
    "![](union_weights.png)"
   ],
   "metadata": {}
  },
  {
   "cell_type": "code",
   "execution_count": 17,
   "source": [
    "fig, ax = plt.subplots(figsize=(10, 10))\n",
    "\n",
    "v.show_weights_connection(type=\"queens\", ax=ax)\n",
    "\n",
    "plt.savefig(\"queens_weights.png\")\n",
    "plt.close(fig)"
   ],
   "outputs": [
    {
     "output_type": "stream",
     "name": "stderr",
     "text": [
      "/home/alex/Desktop/github/VASA/myenv/lib/python3.8/site-packages/libpysal/weights/weights.py:172: UserWarning: The weights matrix is not fully connected: \n",
      " There are 8 disconnected components.\n",
      " There are 2 islands with ids: 445, 5105.\n",
      "  warnings.warn(message)\n"
     ]
    },
    {
     "output_type": "stream",
     "name": "stdout",
     "text": [
      "('WARNING: ', 445, ' is an island (no neighbors)')\n",
      "('WARNING: ', 5105, ' is an island (no neighbors)')\n"
     ]
    }
   ],
   "metadata": {}
  },
  {
   "cell_type": "markdown",
   "source": [
    "![](queens_weights.png)"
   ],
   "metadata": {}
  }
 ],
 "metadata": {
  "orig_nbformat": 4,
  "language_info": {
   "name": "python",
   "version": "3.8.10",
   "mimetype": "text/x-python",
   "codemirror_mode": {
    "name": "ipython",
    "version": 3
   },
   "pygments_lexer": "ipython3",
   "nbconvert_exporter": "python",
   "file_extension": ".py"
  },
  "kernelspec": {
   "name": "python3",
   "display_name": "Python 3.8.10 64-bit ('myenv': venv)"
  },
  "interpreter": {
   "hash": "983571a0c964d10a6571f4b3df2ee2ceeacf27d6400d4a9089db863a8e919ce0"
  }
 },
 "nbformat": 4,
 "nbformat_minor": 2
}