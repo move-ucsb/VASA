{
 "cells": [
  {
   "cell_type": "code",
   "execution_count": null,
   "source": [
    "%pip install -i https://test.pypi.org/simple/ VASA==0.0.4"
   ],
   "outputs": [],
   "metadata": {}
  },
  {
   "cell_type": "code",
   "execution_count": 1,
   "source": [
    "import os\n",
    "import sys\n",
    "import geopandas as gpd\n",
    "import pandas as pd\n",
    "import numpy as np\n",
    "import matplotlib.pyplot as plt\n",
    "\n",
    "sys.path.append(os.path.abspath(os.path.join(os.pardir)))\n",
    "from VASA import VASA"
   ],
   "outputs": [
    {
     "output_type": "stream",
     "name": "stderr",
     "text": [
      "/home/alex/Desktop/github/VASA/myenv/lib/python3.8/site-packages/geopandas/_compat.py:106: UserWarning: The Shapely GEOS version (3.8.0-CAPI-1.13.1 ) is incompatible with the GEOS version PyGEOS was compiled with (3.9.1-CAPI-1.14.2). Conversions between both will be slow.\n",
      "  warnings.warn(\n"
     ]
    }
   ],
   "metadata": {}
  },
  {
   "cell_type": "code",
   "execution_count": 2,
   "source": [
    "# CBG Map of California\n",
    "counties_map = gpd.GeoDataFrame \\\n",
    "    .from_features(gpd.read_file(\"../data/ca_cbg\")) \\\n",
    "    .set_crs(epsg=4326) \\\n",
    "    .to_crs(\"+proj=aea +lat_1=20 +lat_2=60 +lat_0=40 +lon_0=-96 +x_0=0 +y_0=0 +datum=NAD83 +units=m +no_defs\")\n",
    "\n",
    "counties_map = counties_map[counties_map.ALAND > 0]"
   ],
   "outputs": [],
   "metadata": {}
  },
  {
   "cell_type": "code",
   "execution_count": 3,
   "source": [
    "#Lake Fire 2019 Data\n",
    "fire2019 = pd.read_csv(\"../data/lakefire2019_data.csv\")\n",
    "fire2019.origin_census_block_group = \"0\" + fire2019.origin_census_block_group.astype(str)"
   ],
   "outputs": [],
   "metadata": {}
  },
  {
   "cell_type": "code",
   "execution_count": 7,
   "source": [
    "# Lake Fire Shapefile\n",
    "lake_fire = gpd.read_file(\"../data/lake_fire\") \\\n",
    "    .set_crs(epsg=4326) \\\n",
    "    .to_crs(\"+proj=aea +lat_1=20 +lat_2=60 +lat_0=40 +lon_0=-96 +x_0=0 +y_0=0 +datum=NAD83 +units=m +no_defs\")\n",
    "\n",
    "unique_cbgs = np.unique(fire2019.origin_census_block_group)\n",
    "unique_tracts = np.unique([g[:8] for g in unique_cbgs])\n",
    "unique_counties = np.unique([g[:5] for g in unique_tracts])\n",
    "\n",
    "fig, ax = plt.subplots(figsize=(10, 10))\n",
    "\n",
    "tract_map = counties_map[[(cbg[:8] in unique_tracts) for cbg in counties_map.GEOID]]\n",
    "base_map = counties_map[[(cbg[:5] in unique_counties) for cbg in counties_map.GEOID]].copy()\n",
    "\n",
    "base_map[\"c\"] = \"gray\"\n",
    "base_map.loc[[(cbg[:8] in unique_tracts) for cbg in base_map.GEOID], \"c\"] = \"blue\"\n",
    "base_map.loc[[(cbg in unique_cbgs) for cbg in base_map.GEOID], \"c\"] = \"green\"\n",
    "\n",
    "base_map.plot(ax=ax, color=base_map[\"c\"])\n",
    "lake_fire.plot(ax=ax, color=\"red\")\n",
    "\n",
    "plt.savefig(\"fire_weights_filled_in_data.png\")\n",
    "plt.close(fig)"
   ],
   "outputs": [],
   "metadata": {}
  },
  {
   "cell_type": "markdown",
   "source": [
    "![data levels](fire_weights_filled_in_data.png)\n",
    "\n",
    "### Blue = filled in cbgs\n",
    "### Green = cbgs we had data for\n",
    "### Red = Lake fire location"
   ],
   "metadata": {}
  },
  {
   "cell_type": "code",
   "execution_count": 4,
   "source": [
    "v = VASA(\n",
    "    df=fire2019[[\"origin_census_block_group\", \"date_range_start\", \"distance_traveled_from_home\"]],\n",
    "    gdf=counties_map,\n",
    "    group_summary=lambda g: g[:5],  # county level\n",
    "    df_group_col=\"origin_census_block_group\",\n",
    "    gdf_group_col=\"GEOID\",\n",
    "    date_col=\"date_range_start\",\n",
    "    temp_res=\"week\",\n",
    "    date_format=\"%Y-%m-%d %H:%M:%S\" # %z\n",
    ")\n",
    "\n",
    "v.filter_group()\n",
    "v.group()"
   ],
   "outputs": [
    {
     "output_type": "execute_result",
     "data": {
      "text/plain": [
       "<VASA.vasa.VASA at 0x7fa738023430>"
      ]
     },
     "metadata": {},
     "execution_count": 4
    }
   ],
   "metadata": {}
  },
  {
   "cell_type": "code",
   "execution_count": 5,
   "source": [
    "del fire2019"
   ],
   "outputs": [],
   "metadata": {}
  },
  {
   "cell_type": "code",
   "execution_count": 6,
   "source": [
    "v.fill_missing()"
   ],
   "outputs": [],
   "metadata": {}
  },
  {
   "cell_type": "code",
   "execution_count": 7,
   "source": [
    "fig, ax = plt.subplots(figsize=(10, 10))\n",
    "\n",
    "v.show_weights_connection(k=10, ax=ax)\n",
    "\n",
    "plt.savefig(\"k_weights.png\")\n",
    "plt.close(fig)"
   ],
   "outputs": [],
   "metadata": {}
  },
  {
   "cell_type": "markdown",
   "source": [
    "![](k_weights.png)"
   ],
   "metadata": {}
  },
  {
   "cell_type": "code",
   "execution_count": 13,
   "source": [
    "fig, ax = plt.subplots(figsize=(10, 10))\n",
    "\n",
    "v.show_weights_connection(type=\"queens\", ax=ax)\n",
    "\n",
    "plt.savefig(\"queens_weights.png\")\n",
    "plt.close(fig)"
   ],
   "outputs": [
    {
     "output_type": "stream",
     "name": "stderr",
     "text": [
      "/home/alex/Desktop/github/VASA/myenv/lib/python3.8/site-packages/libpysal/weights/weights.py:172: UserWarning: The weights matrix is not fully connected: \n",
      " There are 6 disconnected components.\n",
      " There are 4 islands with ids: 1796, 5276, 5962, 9872.\n",
      "  warnings.warn(message)\n"
     ]
    },
    {
     "output_type": "stream",
     "name": "stdout",
     "text": [
      "('WARNING: ', 1796, ' is an island (no neighbors)')\n",
      "('WARNING: ', 5276, ' is an island (no neighbors)')\n",
      "('WARNING: ', 5962, ' is an island (no neighbors)')\n",
      "('WARNING: ', 9872, ' is an island (no neighbors)')\n"
     ]
    }
   ],
   "metadata": {}
  },
  {
   "cell_type": "markdown",
   "source": [
    "![](queens_weights.png)"
   ],
   "metadata": {}
  },
  {
   "cell_type": "code",
   "execution_count": 7,
   "source": [
    "fig, ax = plt.subplots(figsize=(10, 10))\n",
    "\n",
    "v.show_weights_connection(k=2, type=\"union\", ax=ax)\n",
    "\n",
    "plt.savefig(\"union_weights.png\")\n",
    "plt.close(fig)"
   ],
   "outputs": [
    {
     "output_type": "stream",
     "name": "stderr",
     "text": [
      "/home/alex/Desktop/github/VASA/myenv/lib/python3.8/site-packages/libpysal/weights/weights.py:172: UserWarning: The weights matrix is not fully connected: \n",
      " There are 66 disconnected components.\n",
      "  warnings.warn(message)\n",
      "/home/alex/Desktop/github/VASA/myenv/lib/python3.8/site-packages/libpysal/weights/weights.py:172: UserWarning: The weights matrix is not fully connected: \n",
      " There are 6 disconnected components.\n",
      " There are 4 islands with ids: 1796, 5276, 5962, 9872.\n",
      "  warnings.warn(message)\n"
     ]
    },
    {
     "output_type": "stream",
     "name": "stdout",
     "text": [
      "('WARNING: ', 1796, ' is an island (no neighbors)')\n",
      "('WARNING: ', 5276, ' is an island (no neighbors)')\n",
      "('WARNING: ', 5962, ' is an island (no neighbors)')\n",
      "('WARNING: ', 9872, ' is an island (no neighbors)')\n"
     ]
    }
   ],
   "metadata": {}
  },
  {
   "cell_type": "code",
   "execution_count": 8,
   "source": [
    "v.W.n_components"
   ],
   "outputs": [
    {
     "output_type": "execute_result",
     "data": {
      "text/plain": [
       "1"
      ]
     },
     "metadata": {},
     "execution_count": 8
    }
   ],
   "metadata": {}
  },
  {
   "cell_type": "markdown",
   "source": [
    "![](union_weights.png)"
   ],
   "metadata": {}
  },
  {
   "cell_type": "code",
   "execution_count": null,
   "source": [
    "v.show_weights_connection(band=10_000)"
   ],
   "outputs": [],
   "metadata": {}
  },
  {
   "cell_type": "code",
   "execution_count": 7,
   "source": [
    "comparison = pd.DataFrame()\n",
    "\n",
    "for k in range(2, 22, 2):\n",
    "    print(k)\n",
    "\n",
    "    v.create_w(k=k)\n",
    "    k_disconnected = v.W.n_components\n",
    "    \n",
    "    v.create_w(k=k, type=\"union\")\n",
    "    ku_disconnected = v.W.n_components\n",
    "\n",
    "    comparison = comparison.append(dict(k=k, ks=k_disconnected, ks_union=ku_disconnected), ignore_index=True)"
   ],
   "outputs": [
    {
     "output_type": "stream",
     "name": "stdout",
     "text": [
      "2\n"
     ]
    },
    {
     "output_type": "stream",
     "name": "stderr",
     "text": [
      "/home/alex/Desktop/github/VASA/myenv/lib/python3.8/site-packages/libpysal/weights/weights.py:172: UserWarning: The weights matrix is not fully connected: \n",
      " There are 66 disconnected components.\n",
      "  warnings.warn(message)\n",
      "/home/alex/Desktop/github/VASA/myenv/lib/python3.8/site-packages/libpysal/weights/weights.py:172: UserWarning: The weights matrix is not fully connected: \n",
      " There are 6 disconnected components.\n",
      " There are 4 islands with ids: 1796, 5276, 5962, 9872.\n",
      "  warnings.warn(message)\n"
     ]
    },
    {
     "output_type": "stream",
     "name": "stdout",
     "text": [
      "('WARNING: ', 1796, ' is an island (no neighbors)')\n",
      "('WARNING: ', 5276, ' is an island (no neighbors)')\n",
      "('WARNING: ', 5962, ' is an island (no neighbors)')\n",
      "('WARNING: ', 9872, ' is an island (no neighbors)')\n",
      "4\n"
     ]
    },
    {
     "output_type": "stream",
     "name": "stderr",
     "text": [
      "/home/alex/Desktop/github/VASA/myenv/lib/python3.8/site-packages/libpysal/weights/weights.py:172: UserWarning: The weights matrix is not fully connected: \n",
      " There are 9 disconnected components.\n",
      "  warnings.warn(message)\n"
     ]
    },
    {
     "output_type": "stream",
     "name": "stdout",
     "text": [
      "('WARNING: ', 1796, ' is an island (no neighbors)')\n",
      "('WARNING: ', 5276, ' is an island (no neighbors)')\n",
      "('WARNING: ', 5962, ' is an island (no neighbors)')\n",
      "('WARNING: ', 9872, ' is an island (no neighbors)')\n",
      "6\n"
     ]
    },
    {
     "output_type": "stream",
     "name": "stderr",
     "text": [
      "/home/alex/Desktop/github/VASA/myenv/lib/python3.8/site-packages/libpysal/weights/weights.py:172: UserWarning: The weights matrix is not fully connected: \n",
      " There are 4 disconnected components.\n",
      "  warnings.warn(message)\n"
     ]
    },
    {
     "output_type": "stream",
     "name": "stdout",
     "text": [
      "('WARNING: ', 1796, ' is an island (no neighbors)')\n",
      "('WARNING: ', 5276, ' is an island (no neighbors)')\n",
      "('WARNING: ', 5962, ' is an island (no neighbors)')\n",
      "('WARNING: ', 9872, ' is an island (no neighbors)')\n",
      "8\n"
     ]
    },
    {
     "output_type": "stream",
     "name": "stderr",
     "text": [
      "/home/alex/Desktop/github/VASA/myenv/lib/python3.8/site-packages/libpysal/weights/weights.py:172: UserWarning: The weights matrix is not fully connected: \n",
      " There are 2 disconnected components.\n",
      "  warnings.warn(message)\n"
     ]
    },
    {
     "output_type": "stream",
     "name": "stdout",
     "text": [
      "('WARNING: ', 1796, ' is an island (no neighbors)')\n",
      "('WARNING: ', 5276, ' is an island (no neighbors)')\n",
      "('WARNING: ', 5962, ' is an island (no neighbors)')\n",
      "('WARNING: ', 9872, ' is an island (no neighbors)')\n",
      "10\n",
      "('WARNING: ', 1796, ' is an island (no neighbors)')\n",
      "('WARNING: ', 5276, ' is an island (no neighbors)')\n",
      "('WARNING: ', 5962, ' is an island (no neighbors)')\n",
      "('WARNING: ', 9872, ' is an island (no neighbors)')\n",
      "12\n",
      "('WARNING: ', 1796, ' is an island (no neighbors)')\n",
      "('WARNING: ', 5276, ' is an island (no neighbors)')\n",
      "('WARNING: ', 5962, ' is an island (no neighbors)')\n",
      "('WARNING: ', 9872, ' is an island (no neighbors)')\n",
      "14\n",
      "('WARNING: ', 1796, ' is an island (no neighbors)')\n",
      "('WARNING: ', 5276, ' is an island (no neighbors)')\n",
      "('WARNING: ', 5962, ' is an island (no neighbors)')\n",
      "('WARNING: ', 9872, ' is an island (no neighbors)')\n",
      "16\n",
      "('WARNING: ', 1796, ' is an island (no neighbors)')\n",
      "('WARNING: ', 5276, ' is an island (no neighbors)')\n",
      "('WARNING: ', 5962, ' is an island (no neighbors)')\n",
      "('WARNING: ', 9872, ' is an island (no neighbors)')\n",
      "18\n",
      "('WARNING: ', 1796, ' is an island (no neighbors)')\n",
      "('WARNING: ', 5276, ' is an island (no neighbors)')\n",
      "('WARNING: ', 5962, ' is an island (no neighbors)')\n",
      "('WARNING: ', 9872, ' is an island (no neighbors)')\n",
      "20\n",
      "('WARNING: ', 1796, ' is an island (no neighbors)')\n",
      "('WARNING: ', 5276, ' is an island (no neighbors)')\n",
      "('WARNING: ', 5962, ' is an island (no neighbors)')\n",
      "('WARNING: ', 9872, ' is an island (no neighbors)')\n"
     ]
    }
   ],
   "metadata": {}
  },
  {
   "cell_type": "code",
   "execution_count": 8,
   "source": [
    "comparison"
   ],
   "outputs": [
    {
     "output_type": "execute_result",
     "data": {
      "text/html": [
       "<div>\n",
       "<style scoped>\n",
       "    .dataframe tbody tr th:only-of-type {\n",
       "        vertical-align: middle;\n",
       "    }\n",
       "\n",
       "    .dataframe tbody tr th {\n",
       "        vertical-align: top;\n",
       "    }\n",
       "\n",
       "    .dataframe thead th {\n",
       "        text-align: right;\n",
       "    }\n",
       "</style>\n",
       "<table border=\"1\" class=\"dataframe\">\n",
       "  <thead>\n",
       "    <tr style=\"text-align: right;\">\n",
       "      <th></th>\n",
       "      <th>k</th>\n",
       "      <th>ks</th>\n",
       "      <th>ks_union</th>\n",
       "    </tr>\n",
       "  </thead>\n",
       "  <tbody>\n",
       "    <tr>\n",
       "      <th>0</th>\n",
       "      <td>2.0</td>\n",
       "      <td>66.0</td>\n",
       "      <td>1.0</td>\n",
       "    </tr>\n",
       "    <tr>\n",
       "      <th>1</th>\n",
       "      <td>4.0</td>\n",
       "      <td>9.0</td>\n",
       "      <td>1.0</td>\n",
       "    </tr>\n",
       "    <tr>\n",
       "      <th>2</th>\n",
       "      <td>6.0</td>\n",
       "      <td>4.0</td>\n",
       "      <td>1.0</td>\n",
       "    </tr>\n",
       "    <tr>\n",
       "      <th>3</th>\n",
       "      <td>8.0</td>\n",
       "      <td>2.0</td>\n",
       "      <td>1.0</td>\n",
       "    </tr>\n",
       "    <tr>\n",
       "      <th>4</th>\n",
       "      <td>10.0</td>\n",
       "      <td>1.0</td>\n",
       "      <td>1.0</td>\n",
       "    </tr>\n",
       "    <tr>\n",
       "      <th>5</th>\n",
       "      <td>12.0</td>\n",
       "      <td>1.0</td>\n",
       "      <td>1.0</td>\n",
       "    </tr>\n",
       "    <tr>\n",
       "      <th>6</th>\n",
       "      <td>14.0</td>\n",
       "      <td>1.0</td>\n",
       "      <td>1.0</td>\n",
       "    </tr>\n",
       "    <tr>\n",
       "      <th>7</th>\n",
       "      <td>16.0</td>\n",
       "      <td>1.0</td>\n",
       "      <td>1.0</td>\n",
       "    </tr>\n",
       "    <tr>\n",
       "      <th>8</th>\n",
       "      <td>18.0</td>\n",
       "      <td>1.0</td>\n",
       "      <td>1.0</td>\n",
       "    </tr>\n",
       "    <tr>\n",
       "      <th>9</th>\n",
       "      <td>20.0</td>\n",
       "      <td>1.0</td>\n",
       "      <td>1.0</td>\n",
       "    </tr>\n",
       "  </tbody>\n",
       "</table>\n",
       "</div>"
      ],
      "text/plain": [
       "      k    ks  ks_union\n",
       "0   2.0  66.0       1.0\n",
       "1   4.0   9.0       1.0\n",
       "2   6.0   4.0       1.0\n",
       "3   8.0   2.0       1.0\n",
       "4  10.0   1.0       1.0\n",
       "5  12.0   1.0       1.0\n",
       "6  14.0   1.0       1.0\n",
       "7  16.0   1.0       1.0\n",
       "8  18.0   1.0       1.0\n",
       "9  20.0   1.0       1.0"
      ]
     },
     "metadata": {},
     "execution_count": 8
    }
   ],
   "metadata": {}
  },
  {
   "cell_type": "code",
   "execution_count": 9,
   "source": [
    "import seaborn as sns\n",
    "\n",
    "sns.lineplot(\n",
    "    data=pd.melt(comparison, id_vars=[\"k\"], value_vars=[\"ks\", \"ks_union\"], var_name=\"group\"),\n",
    "    x=\"k\",\n",
    "    y=\"value\",\n",
    "    hue=\"group\"\n",
    ")"
   ],
   "outputs": [
    {
     "output_type": "execute_result",
     "data": {
      "text/plain": [
       "<AxesSubplot:xlabel='k', ylabel='value'>"
      ]
     },
     "metadata": {},
     "execution_count": 9
    },
    {
     "output_type": "display_data",
     "data": {
      "image/png": "[encoded data removed]",
      "text/plain": [
       "<Figure size 432x288 with 1 Axes>"
      ]
     },
     "metadata": {
      "needs_background": "light"
     }
    }
   ],
   "metadata": {}
  }
 ],
 "metadata": {
  "orig_nbformat": 4,
  "language_info": {
   "name": "python",
   "version": "3.8.10",
   "mimetype": "text/x-python",
   "codemirror_mode": {
    "name": "ipython",
    "version": 3
   },
   "pygments_lexer": "ipython3",
   "nbconvert_exporter": "python",
   "file_extension": ".py"
  },
  "kernelspec": {
   "name": "python3",
   "display_name": "Python 3.8.10 64-bit ('myenv': venv)"
  },
  "interpreter": {
   "hash": "983571a0c964d10a6571f4b3df2ee2ceeacf27d6400d4a9089db863a8e919ce0"
  }
 },
 "nbformat": 4,
 "nbformat_minor": 2
}