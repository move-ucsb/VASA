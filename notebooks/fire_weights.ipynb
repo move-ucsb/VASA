{
 "cells": [
  {
   "cell_type": "code",
   "execution_count": null,
   "source": [],
   "outputs": [],
   "metadata": {}
  },
  {
   "cell_type": "code",
   "execution_count": 4,
   "source": [
    "%pip install -i https://test.pypi.org/simple/ VASA==0.0.3"
   ],
   "outputs": [
    {
     "output_type": "stream",
     "name": "stdout",
     "text": [
      "Note: you may need to restart the kernel to use updated packages.\n"
     ]
    },
    {
     "output_type": "stream",
     "name": "stderr",
     "text": [
      "The filename, directory name, or volume label syntax is incorrect.\n"
     ]
    }
   ],
   "metadata": {}
  },
  {
   "cell_type": "code",
   "execution_count": 5,
   "source": [
    "import geopandas as gpd\r\n",
    "import pandas as pd\r\n",
    "import numpy as np\r\n",
    "import matplotlib.pyplot as plt\r\n",
    "\r\n",
    "from VASA import VASA"
   ],
   "outputs": [
    {
     "output_type": "error",
     "ename": "ModuleNotFoundError",
     "evalue": "No module named 'VASA'",
     "traceback": [
      "\u001b[1;31m---------------------------------------------------------------------------\u001b[0m",
      "\u001b[1;31mModuleNotFoundError\u001b[0m                       Traceback (most recent call last)",
      "\u001b[1;32m~\\AppData\\Local\\Temp/ipykernel_31536/1142031991.py\u001b[0m in \u001b[0;36m<module>\u001b[1;34m\u001b[0m\n\u001b[0;32m      4\u001b[0m \u001b[1;32mimport\u001b[0m \u001b[0mmatplotlib\u001b[0m\u001b[1;33m.\u001b[0m\u001b[0mpyplot\u001b[0m \u001b[1;32mas\u001b[0m \u001b[0mplt\u001b[0m\u001b[1;33m\u001b[0m\u001b[1;33m\u001b[0m\u001b[0m\n\u001b[0;32m      5\u001b[0m \u001b[1;33m\u001b[0m\u001b[0m\n\u001b[1;32m----> 6\u001b[1;33m \u001b[1;32mfrom\u001b[0m \u001b[0mVASA\u001b[0m \u001b[1;32mimport\u001b[0m \u001b[0mVASA\u001b[0m\u001b[1;33m\u001b[0m\u001b[1;33m\u001b[0m\u001b[0m\n\u001b[0m",
      "\u001b[1;31mModuleNotFoundError\u001b[0m: No module named 'VASA'"
     ]
    }
   ],
   "metadata": {}
  },
  {
   "cell_type": "code",
   "execution_count": 2,
   "source": [
    "# CBG Map of California\r\n",
    "counties_map = gpd.GeoDataFrame \\\r\n",
    "    .from_features(gpd.read_file(\"../data/ca_cbg\")) \\\r\n",
    "    .set_crs(epsg=4326) \\\r\n",
    "    .to_crs(\"+proj=aea +lat_1=20 +lat_2=60 +lat_0=40 +lon_0=-96 +x_0=0 +y_0=0 +datum=NAD83 +units=m +no_defs\")"
   ],
   "outputs": [],
   "metadata": {}
  },
  {
   "cell_type": "code",
   "execution_count": 4,
   "source": [
    "#Lake Fire 2019 Data\r\n",
    "fire2019 = pd.read_csv(\"../data/lakefire2019_data.csv\")\r\n",
    "fire2019.origin_census_block_group = \"0\" + fire2019.origin_census_block_group.astype(str)"
   ],
   "outputs": [],
   "metadata": {}
  },
  {
   "cell_type": "code",
   "execution_count": 5,
   "source": [
    "# Lake Fire Shapefile\r\n",
    "lake_fire = gpd.read_file(\"../data/lake_fire\") \\\r\n",
    "    .set_crs(epsg=4326) \\\r\n",
    "    .to_crs(\"+proj=aea +lat_1=20 +lat_2=60 +lat_0=40 +lon_0=-96 +x_0=0 +y_0=0 +datum=NAD83 +units=m +no_defs\")"
   ],
   "outputs": [],
   "metadata": {}
  },
  {
   "cell_type": "code",
   "execution_count": 6,
   "source": [
    "unique_cbgs = np.unique(fire2019.origin_census_block_group)\n",
    "unique_tracts = np.unique([g[:8] for g in unique_cbgs])\n",
    "unique_counties = np.unique([g[:5] for g in unique_tracts])"
   ],
   "outputs": [],
   "metadata": {}
  },
  {
   "cell_type": "code",
   "execution_count": 7,
   "source": [
    "tract_map = counties_map[[(cbg[:8] in unique_tracts) for cbg in counties_map.GEOID]]"
   ],
   "outputs": [],
   "metadata": {}
  },
  {
   "cell_type": "code",
   "execution_count": null,
   "source": [
    "fig, ax = plt.subplots(figsize=(10, 10))\n",
    "\n",
    "base_map = counties_map[[(cbg[:5] in unique_counties) for cbg in counties_map.GEOID]].copy()\n",
    "\n",
    "base_map[\"c\"] = \"gray\"\n",
    "base_map.loc[[(cbg[:8] in unique_tracts) for cbg in base_map.GEOID], \"c\"] = \"blue\"\n",
    "base_map.loc[[(cbg in unique_cbgs) for cbg in base_map.GEOID], \"c\"] = \"green\"\n",
    "\n",
    "base_map.plot(ax=ax, color=base_map[\"c\"])\n",
    "lake_fire.plot(ax=ax, color=\"red\")\n",
    "\n",
    "plt.savefig(\"fire_weights_filled_in_data.png\")\n",
    "plt.close(fig)"
   ],
   "outputs": [],
   "metadata": {}
  },
  {
   "cell_type": "markdown",
   "source": [
    "![data levels](fire_weights_filled_in_data.png)"
   ],
   "metadata": {}
  },
  {
   "cell_type": "code",
   "execution_count": 8,
   "source": [
    "v = VASA(\n",
    "    df=fire2019[[\"origin_census_block_group\", \"date_range_start\", \"distance_traveled_from_home\"]],\n",
    "    gdf=tract_map,\n",
    "    df_group_col=\"origin_census_block_group\",\n",
    "    gdf_group_col=\"GEOID\",\n",
    "    date_col=\"date_range_start\",\n",
    "    temp_res=\"week\",\n",
    "    date_format=\"%Y-%m-%d %H:%M:%S\" # %z\n",
    ")"
   ],
   "outputs": [],
   "metadata": {}
  },
  {
   "cell_type": "code",
   "execution_count": 9,
   "source": [
    "del fire2019"
   ],
   "outputs": [],
   "metadata": {}
  },
  {
   "cell_type": "code",
   "execution_count": 10,
   "source": [
    "v.fill_missing()"
   ],
   "outputs": [],
   "metadata": {}
  },
  {
   "cell_type": "code",
   "execution_count": 13,
   "source": [
    "fig, ax = plt.subplots(figsize=(10, 10))\n",
    "\n",
    "v.show_weights_connection(k=15, ax=ax)\n",
    "\n",
    "plt.savefig(\"k_weights.png\")\n",
    "plt.close(fig)"
   ],
   "outputs": [
    {
     "output_type": "stream",
     "name": "stderr",
     "text": [
      "/home/alex/Desktop/github/VASA/myenv/lib/python3.8/site-packages/libpysal/weights/weights.py:172: UserWarning: The weights matrix is not fully connected: \n",
      " There are 2 disconnected components.\n",
      "  warnings.warn(message)\n",
      "/home/alex/Desktop/github/VASA/myenv/lib/python3.8/site-packages/libpysal/weights/weights.py:172: UserWarning: The weights matrix is not fully connected: \n",
      " There are 8 disconnected components.\n",
      " There are 2 islands with ids: 445, 5105.\n",
      "  warnings.warn(message)\n"
     ]
    },
    {
     "output_type": "stream",
     "name": "stdout",
     "text": [
      "('WARNING: ', 445, ' is an island (no neighbors)')\n",
      "('WARNING: ', 5105, ' is an island (no neighbors)')\n"
     ]
    }
   ],
   "metadata": {}
  },
  {
   "cell_type": "markdown",
   "source": [
    "![](k_weights.png)"
   ],
   "metadata": {}
  },
  {
   "cell_type": "code",
   "execution_count": null,
   "source": [
    "v.show_weights_connection(band=10_000)"
   ],
   "outputs": [],
   "metadata": {}
  },
  {
   "cell_type": "code",
   "execution_count": 16,
   "source": [
    "fig, ax = plt.subplots(figsize=(10, 10))\n",
    "\n",
    "v.show_weights_connection(k=10, type=\"union\", ax=ax)\n",
    "\n",
    "plt.savefig(\"union_weights.png\")\n",
    "plt.close(fig)"
   ],
   "outputs": [
    {
     "output_type": "stream",
     "name": "stderr",
     "text": [
      "/home/alex/Desktop/github/VASA/myenv/lib/python3.8/site-packages/libpysal/weights/weights.py:172: UserWarning: The weights matrix is not fully connected: \n",
      " There are 2 disconnected components.\n",
      "  warnings.warn(message)\n",
      "/home/alex/Desktop/github/VASA/myenv/lib/python3.8/site-packages/libpysal/weights/weights.py:172: UserWarning: The weights matrix is not fully connected: \n",
      " There are 8 disconnected components.\n",
      " There are 2 islands with ids: 445, 5105.\n",
      "  warnings.warn(message)\n"
     ]
    },
    {
     "output_type": "stream",
     "name": "stdout",
     "text": [
      "('WARNING: ', 445, ' is an island (no neighbors)')\n",
      "('WARNING: ', 5105, ' is an island (no neighbors)')\n"
     ]
    }
   ],
   "metadata": {}
  },
  {
   "cell_type": "markdown",
   "source": [
    "![](union_weights.png)"
   ],
   "metadata": {}
  },
  {
   "cell_type": "code",
   "execution_count": 17,
   "source": [
    "fig, ax = plt.subplots(figsize=(10, 10))\n",
    "\n",
    "v.show_weights_connection(type=\"queens\", ax=ax)\n",
    "\n",
    "plt.savefig(\"queens_weights.png\")\n",
    "plt.close(fig)"
   ],
   "outputs": [
    {
     "output_type": "stream",
     "name": "stderr",
     "text": [
      "/home/alex/Desktop/github/VASA/myenv/lib/python3.8/site-packages/libpysal/weights/weights.py:172: UserWarning: The weights matrix is not fully connected: \n",
      " There are 8 disconnected components.\n",
      " There are 2 islands with ids: 445, 5105.\n",
      "  warnings.warn(message)\n"
     ]
    },
    {
     "output_type": "stream",
     "name": "stdout",
     "text": [
      "('WARNING: ', 445, ' is an island (no neighbors)')\n",
      "('WARNING: ', 5105, ' is an island (no neighbors)')\n"
     ]
    }
   ],
   "metadata": {}
  },
  {
   "cell_type": "markdown",
   "source": [
    "![](queens_weights.png)"
   ],
   "metadata": {}
  }
 ],
 "metadata": {
  "orig_nbformat": 4,
  "language_info": {
   "name": "python",
   "version": "3.8.0",
   "mimetype": "text/x-python",
   "codemirror_mode": {
    "name": "ipython",
    "version": 3
   },
   "pygments_lexer": "ipython3",
   "nbconvert_exporter": "python",
   "file_extension": ".py"
  },
  "kernelspec": {
   "name": "python3",
   "display_name": "Python 3.8.0 64-bit ('myenv': venv)"
  },
  "interpreter": {
   "hash": "e5ebdcf54e8deebd90add5288c43d45e3d46d3c0b87a2ec519ec22dd000f117d"
  }
 },
 "nbformat": 4,
 "nbformat_minor": 2
}