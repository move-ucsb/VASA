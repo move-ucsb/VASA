{
 "cells": [
  {
   "cell_type": "code",
   "execution_count": null,
   "source": [
    "%pip install -i https://test.pypi.org/simple/ VASA==0.0.4"
   ],
   "outputs": [],
   "metadata": {}
  },
  {
   "cell_type": "code",
   "execution_count": 1,
   "source": [
    "import os\n",
    "import sys\n",
    "import geopandas as gpd\n",
    "import pandas as pd\n",
    "import numpy as np\n",
    "\n",
    "sys.path.append(os.path.abspath(os.path.join(os.pardir)))\n",
    "from VASA import VASA"
   ],
   "outputs": [
    {
     "output_type": "stream",
     "name": "stderr",
     "text": [
      "/home/alex/Desktop/github/VASA/myenv/lib/python3.8/site-packages/geopandas/_compat.py:106: UserWarning: The Shapely GEOS version (3.8.0-CAPI-1.13.1 ) is incompatible with the GEOS version PyGEOS was compiled with (3.9.1-CAPI-1.14.2). Conversions between both will be slow.\n",
      "  warnings.warn(\n"
     ]
    }
   ],
   "metadata": {}
  },
  {
   "cell_type": "code",
   "execution_count": 2,
   "source": [
    "# CBG Map of California\n",
    "counties_map = gpd.GeoDataFrame \\\n",
    "    .from_features(gpd.read_file(\"../data/ca_cbg\")) \\\n",
    "    .set_crs(epsg=4326) \\\n",
    "    .to_crs(\"+proj=aea +lat_1=20 +lat_2=60 +lat_0=40 +lon_0=-96 +x_0=0 +y_0=0 +datum=NAD83 +units=m +no_defs\")"
   ],
   "outputs": [],
   "metadata": {}
  },
  {
   "cell_type": "code",
   "execution_count": 3,
   "source": [
    "#Lake Fire 2019 Data\n",
    "fire2019 = pd.read_csv(\"../data/lakefire2019_data.csv\")\n",
    "fire2019.origin_census_block_group = \"0\" + fire2019.origin_census_block_group.astype(str)"
   ],
   "outputs": [],
   "metadata": {}
  },
  {
   "cell_type": "code",
   "execution_count": 4,
   "source": [
    "# unique_tracts = np.unique([g[:8] for g in fire2019.origin_census_block_group])\n",
    "# tract_map = counties_map[[(cbg[:8] in unique_tracts) for cbg in counties_map.GEOID]]"
   ],
   "outputs": [],
   "metadata": {}
  },
  {
   "cell_type": "code",
   "execution_count": 4,
   "source": [
    "v = VASA(\n",
    "    df=fire2019[[\"origin_census_block_group\", \"date_range_start\", \"distance_traveled_from_home\"]],\n",
    "    gdf=counties_map,\n",
    "    group_summary=lambda g: g[:5], # county level\n",
    "    df_group_col=\"origin_census_block_group\",\n",
    "    gdf_group_col=\"GEOID\",\n",
    "    date_col=\"date_range_start\",\n",
    "    temp_res=\"week\",\n",
    "    date_format=\"%Y-%m-%d %H:%M:%S\"\n",
    ")"
   ],
   "outputs": [],
   "metadata": {}
  },
  {
   "cell_type": "code",
   "execution_count": 5,
   "source": [
    "del fire2019"
   ],
   "outputs": [],
   "metadata": {}
  },
  {
   "cell_type": "code",
   "execution_count": 6,
   "source": [
    "v.filter_group()"
   ],
   "outputs": [],
   "metadata": {}
  },
  {
   "cell_type": "code",
   "execution_count": 8,
   "source": [
    "v.group()"
   ],
   "outputs": [
    {
     "output_type": "execute_result",
     "data": {
      "text/plain": [
       "<VASA.vasa.VASA at 0x7fed8c1579a0>"
      ]
     },
     "metadata": {},
     "execution_count": 8
    }
   ],
   "metadata": {}
  },
  {
   "cell_type": "code",
   "execution_count": 9,
   "source": [
    "v.fill_missing()"
   ],
   "outputs": [],
   "metadata": {}
  },
  {
   "cell_type": "code",
   "execution_count": 10,
   "source": [
    "v.lisa(k=10, type=\"union\")"
   ],
   "outputs": [
    {
     "output_type": "stream",
     "name": "stdout",
     "text": [
      "('WARNING: ', 5966, ' is an island (no neighbors)')\n"
     ]
    },
    {
     "output_type": "stream",
     "name": "stderr",
     "text": [
      "/home/alex/Desktop/github/VASA/myenv/lib/python3.8/site-packages/libpysal/weights/weights.py:172: UserWarning: The weights matrix is not fully connected: \n",
      " There are 3 disconnected components.\n",
      " There is 1 island with id: 5966.\n",
      "  warnings.warn(message)\n",
      "/home/alex/Desktop/github/VASA/myenv/lib/python3.8/site-packages/esda/moran.py:1054: RuntimeWarning: invalid value encountered in true_divide\n",
      "  self.z_sim = (self.Is - self.EI_sim) / self.seI_sim\n",
      "/home/alex/Desktop/github/VASA/myenv/lib/python3.8/site-packages/esda/moran.py:1054: RuntimeWarning: invalid value encountered in true_divide\n",
      "  self.z_sim = (self.Is - self.EI_sim) / self.seI_sim\n",
      "/home/alex/Desktop/github/VASA/myenv/lib/python3.8/site-packages/esda/moran.py:1054: RuntimeWarning: invalid value encountered in true_divide\n",
      "  self.z_sim = (self.Is - self.EI_sim) / self.seI_sim\n",
      "/home/alex/Desktop/github/VASA/myenv/lib/python3.8/site-packages/esda/moran.py:1054: RuntimeWarning: invalid value encountered in true_divide\n",
      "  self.z_sim = (self.Is - self.EI_sim) / self.seI_sim\n",
      "/home/alex/Desktop/github/VASA/myenv/lib/python3.8/site-packages/esda/moran.py:1054: RuntimeWarning: invalid value encountered in true_divide\n",
      "  self.z_sim = (self.Is - self.EI_sim) / self.seI_sim\n"
     ]
    }
   ],
   "metadata": {}
  },
  {
   "cell_type": "code",
   "execution_count": 11,
   "source": [
    "from VASA.scatter import Scatter\n",
    "sc = Scatter(v)\n",
    "sc.plot()"
   ],
   "outputs": [
    {
     "output_type": "display_data",
     "data": {
      "image/png": "[encoded data removed]",
      "text/plain": [
       "<Figure size 576x576 with 1 Axes>"
      ]
     },
     "metadata": {
      "needs_background": "light"
     }
    }
   ],
   "metadata": {}
  },
  {
   "cell_type": "code",
   "execution_count": 12,
   "source": [
    "from VASA.static_choropleth import StackedChoropleth"
   ],
   "outputs": [],
   "metadata": {}
  },
  {
   "cell_type": "code",
   "execution_count": 13,
   "source": [
    "stcked = StackedChoropleth(v, os.getcwd())\n",
    "stcked.plot_count()"
   ],
   "outputs": [],
   "metadata": {}
  },
  {
   "cell_type": "markdown",
   "source": [
    "![](count/distance_traveled_from_home.png)"
   ],
   "metadata": {}
  },
  {
   "cell_type": "code",
   "execution_count": 16,
   "source": [
    "stcked = StackedChoropleth(v, os.getcwd())\n",
    "stcked.plot_recent()"
   ],
   "outputs": [],
   "metadata": {}
  },
  {
   "cell_type": "markdown",
   "source": [
    "![](recent/distance_traveled_from_home.png)"
   ],
   "metadata": {}
  },
  {
   "cell_type": "code",
   "execution_count": null,
   "source": [
    "stcked = StackedChoropleth(v, os.getcwd())\n",
    "stcked.plot_both()"
   ],
   "outputs": [],
   "metadata": {}
  },
  {
   "cell_type": "markdown",
   "source": [
    "![](combined/distance_traveled_from_home.png)"
   ],
   "metadata": {}
  },
  {
   "cell_type": "code",
   "execution_count": null,
   "source": [
    "#from VASA.stripplot import Strip\n",
    "\n",
    "# This is trying to merge with the state names csv, which doesn't make sense for this\n",
    "\n",
    "st = Strip(v)\n",
    "\n",
    "def group_id(f):\n",
    "    return int(f[:8])\n",
    "\n",
    "st.plot(group_id)"
   ],
   "outputs": [],
   "metadata": {}
  }
 ],
 "metadata": {
  "orig_nbformat": 4,
  "language_info": {
   "name": "python",
   "version": "3.8.10",
   "mimetype": "text/x-python",
   "codemirror_mode": {
    "name": "ipython",
    "version": 3
   },
   "pygments_lexer": "ipython3",
   "nbconvert_exporter": "python",
   "file_extension": ".py"
  },
  "kernelspec": {
   "name": "python3",
   "display_name": "Python 3.8.10 64-bit ('myenv': venv)"
  },
  "interpreter": {
   "hash": "983571a0c964d10a6571f4b3df2ee2ceeacf27d6400d4a9089db863a8e919ce0"
  }
 },
 "nbformat": 4,
 "nbformat_minor": 2
}