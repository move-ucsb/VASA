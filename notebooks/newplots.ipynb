{
 "cells": [
  {
   "cell_type": "code",
   "execution_count": 1,
   "metadata": {},
   "outputs": [],
   "source": [
    "import pandas as pd\n",
    "import geopandas as gpd\n",
    "\n",
    "import os\n",
    "import sys\n",
    "sys.path.append(os.path.abspath(os.path.join(os.pardir)))\n",
    "\n",
    "from VASA import VASA"
   ]
  },
  {
   "cell_type": "code",
   "execution_count": 2,
   "metadata": {},
   "outputs": [
    {
     "data": {
      "text/html": [
       "<div>\n",
       "<style scoped>\n",
       "    .dataframe tbody tr th:only-of-type {\n",
       "        vertical-align: middle;\n",
       "    }\n",
       "\n",
       "    .dataframe tbody tr th {\n",
       "        vertical-align: top;\n",
       "    }\n",
       "\n",
       "    .dataframe thead th {\n",
       "        text-align: right;\n",
       "    }\n",
       "</style>\n",
       "<table border=\"1\" class=\"dataframe\">\n",
       "  <thead>\n",
       "    <tr style=\"text-align: right;\">\n",
       "      <th></th>\n",
       "      <th>STATEFP</th>\n",
       "      <th>COUNTYFP</th>\n",
       "      <th>COUNTYNS</th>\n",
       "      <th>AFFGEOID</th>\n",
       "      <th>GEOID</th>\n",
       "      <th>NAME</th>\n",
       "      <th>LSAD</th>\n",
       "      <th>ALAND</th>\n",
       "      <th>AWATER</th>\n",
       "      <th>geometry</th>\n",
       "    </tr>\n",
       "  </thead>\n",
       "  <tbody>\n",
       "    <tr>\n",
       "      <th>0</th>\n",
       "      <td>06</td>\n",
       "      <td>075</td>\n",
       "      <td>00277302</td>\n",
       "      <td>0500000US06075</td>\n",
       "      <td>06075</td>\n",
       "      <td>San Francisco</td>\n",
       "      <td>06</td>\n",
       "      <td>121485107</td>\n",
       "      <td>479107241</td>\n",
       "      <td>POLYGON ((-2168086.764 33798.997, -2176962.349...</td>\n",
       "    </tr>\n",
       "    <tr>\n",
       "      <th>1</th>\n",
       "      <td>25</td>\n",
       "      <td>025</td>\n",
       "      <td>00606939</td>\n",
       "      <td>0500000US25025</td>\n",
       "      <td>25025</td>\n",
       "      <td>Suffolk</td>\n",
       "      <td>06</td>\n",
       "      <td>150855462</td>\n",
       "      <td>160479920</td>\n",
       "      <td>POLYGON ((1901690.921 519844.627, 1902812.906 ...</td>\n",
       "    </tr>\n",
       "    <tr>\n",
       "      <th>2</th>\n",
       "      <td>31</td>\n",
       "      <td>007</td>\n",
       "      <td>00835826</td>\n",
       "      <td>0500000US31007</td>\n",
       "      <td>31007</td>\n",
       "      <td>Banner</td>\n",
       "      <td>06</td>\n",
       "      <td>1932676697</td>\n",
       "      <td>397069</td>\n",
       "      <td>POLYGON ((-629496.462 227201.747, -576250.975 ...</td>\n",
       "    </tr>\n",
       "    <tr>\n",
       "      <th>3</th>\n",
       "      <td>37</td>\n",
       "      <td>181</td>\n",
       "      <td>01008591</td>\n",
       "      <td>0500000US37181</td>\n",
       "      <td>37181</td>\n",
       "      <td>Vance</td>\n",
       "      <td>06</td>\n",
       "      <td>653705784</td>\n",
       "      <td>42187365</td>\n",
       "      <td>POLYGON ((1476930.940 -269973.669, 1488024.098...</td>\n",
       "    </tr>\n",
       "    <tr>\n",
       "      <th>4</th>\n",
       "      <td>48</td>\n",
       "      <td>421</td>\n",
       "      <td>01383996</td>\n",
       "      <td>0500000US48421</td>\n",
       "      <td>48421</td>\n",
       "      <td>Sherman</td>\n",
       "      <td>06</td>\n",
       "      <td>2390651189</td>\n",
       "      <td>428754</td>\n",
       "      <td>POLYGON ((-521740.024 -394881.325, -510740.158...</td>\n",
       "    </tr>\n",
       "  </tbody>\n",
       "</table>\n",
       "</div>"
      ],
      "text/plain": [
       "  STATEFP COUNTYFP  COUNTYNS        AFFGEOID  GEOID           NAME LSAD  \\\n",
       "0      06      075  00277302  0500000US06075  06075  San Francisco   06   \n",
       "1      25      025  00606939  0500000US25025  25025        Suffolk   06   \n",
       "2      31      007  00835826  0500000US31007  31007         Banner   06   \n",
       "3      37      181  01008591  0500000US37181  37181          Vance   06   \n",
       "4      48      421  01383996  0500000US48421  48421        Sherman   06   \n",
       "\n",
       "        ALAND     AWATER                                           geometry  \n",
       "0   121485107  479107241  POLYGON ((-2168086.764 33798.997, -2176962.349...  \n",
       "1   150855462  160479920  POLYGON ((1901690.921 519844.627, 1902812.906 ...  \n",
       "2  1932676697     397069  POLYGON ((-629496.462 227201.747, -576250.975 ...  \n",
       "3   653705784   42187365  POLYGON ((1476930.940 -269973.669, 1488024.098...  \n",
       "4  2390651189     428754  POLYGON ((-521740.024 -394881.325, -510740.158...  "
      ]
     },
     "execution_count": 2,
     "metadata": {},
     "output_type": "execute_result"
    }
   ],
   "source": [
    "# Read in USA counties geojson file\n",
    "counties_map = gpd.read_file(\"../test data/counties.geojson\") \\\n",
    "    .set_crs(epsg=4326) \\\n",
    "    .to_crs(\"+proj=aea +lat_1=20 +lat_2=60 +lat_0=40 +lon_0=-96 +x_0=0 +y_0=0 +datum=NAD83 +units=m +no_defs\")\n",
    "\n",
    "# filter out states not in the continental US\n",
    "counties_map = counties_map[[(state != '02' and state != '15' and int(state) < 60) for state in counties_map.STATEFP]]\n",
    "\n",
    "counties_map.head()"
   ]
  },
  {
   "cell_type": "code",
   "execution_count": 3,
   "metadata": {},
   "outputs": [
    {
     "data": {
      "text/html": [
       "<div>\n",
       "<style scoped>\n",
       "    .dataframe tbody tr th:only-of-type {\n",
       "        vertical-align: middle;\n",
       "    }\n",
       "\n",
       "    .dataframe tbody tr th {\n",
       "        vertical-align: top;\n",
       "    }\n",
       "\n",
       "    .dataframe thead th {\n",
       "        text-align: right;\n",
       "    }\n",
       "</style>\n",
       "<table border=\"1\" class=\"dataframe\">\n",
       "  <thead>\n",
       "    <tr style=\"text-align: right;\">\n",
       "      <th></th>\n",
       "      <th>fips</th>\n",
       "      <th>ds_m4</th>\n",
       "      <th>sg_avg_dist2</th>\n",
       "    </tr>\n",
       "  </thead>\n",
       "  <tbody>\n",
       "    <tr>\n",
       "      <th>0</th>\n",
       "      <td>45035</td>\n",
       "      <td>2020-01-01</td>\n",
       "      <td>11066.255084</td>\n",
       "    </tr>\n",
       "    <tr>\n",
       "      <th>1</th>\n",
       "      <td>45035</td>\n",
       "      <td>2020-01-02</td>\n",
       "      <td>13048.934918</td>\n",
       "    </tr>\n",
       "    <tr>\n",
       "      <th>2</th>\n",
       "      <td>45035</td>\n",
       "      <td>2020-01-03</td>\n",
       "      <td>13383.727687</td>\n",
       "    </tr>\n",
       "    <tr>\n",
       "      <th>3</th>\n",
       "      <td>45035</td>\n",
       "      <td>2020-01-04</td>\n",
       "      <td>11845.334563</td>\n",
       "    </tr>\n",
       "    <tr>\n",
       "      <th>4</th>\n",
       "      <td>45035</td>\n",
       "      <td>2020-01-05</td>\n",
       "      <td>9796.491319</td>\n",
       "    </tr>\n",
       "  </tbody>\n",
       "</table>\n",
       "</div>"
      ],
      "text/plain": [
       "    fips       ds_m4  sg_avg_dist2\n",
       "0  45035  2020-01-01  11066.255084\n",
       "1  45035  2020-01-02  13048.934918\n",
       "2  45035  2020-01-03  13383.727687\n",
       "3  45035  2020-01-04  11845.334563\n",
       "4  45035  2020-01-05   9796.491319"
      ]
     },
     "execution_count": 3,
     "metadata": {},
     "output_type": "execute_result"
    }
   ],
   "source": [
    "# read in the Safegraph data file:\n",
    "data = pd.read_csv(\"../test data/counties.csv\")\n",
    "\n",
    "# We need to ensure that these GEOID's match the ones in our GeoDataFrame - add leading zeros\n",
    "data.fips = [f\"{d:05}\" for d in data.fips]\n",
    "\n",
    "data.head()"
   ]
  },
  {
   "cell_type": "code",
   "execution_count": null,
   "metadata": {},
   "outputs": [],
   "source": [
    "# Load data into a VASA object\n",
    "v = VASA(\n",
    "    df=data,\n",
    "    gdf=counties_map,\n",
    "    group_summary=lambda g: g[:2], # state level\n",
    "    df_group_col=\"fips\",\n",
    "    gdf_group_col=\"GEOID\",\n",
    "    date_col=\"ds_m4\",\n",
    "    temp_res=\"week\",               # get weekly average values\n",
    "    date_format=\"%Y-%m-%d\"\n",
    ")\n",
    "v.fill_missing()\n",
    "v.lisa(k=3, type=\"union\")"
   ]
  },
  {
   "cell_type": "code",
   "execution_count": 5,
   "metadata": {},
   "outputs": [],
   "source": [
    "# When developing, I recommend making changes in the scatter.py file, \n",
    "# copying that file into this cell and commenting out the import in the \n",
    "# next cell. It takes some time to read in the file + run lisa"
   ]
  },
  {
   "cell_type": "code",
   "execution_count": 6,
   "metadata": {},
   "outputs": [
    {
     "data": {
      "image/png": "[encoded data removed]",
      "text/plain": [
       "<Figure size 288x288 with 1 Axes>"
      ]
     },
     "metadata": {
      "needs_background": "light"
     },
     "output_type": "display_data"
    }
   ],
   "source": [
    "from VASA.scatter import Scatter\n",
    "sc = Scatter(v, titles=[\"Safe Graph Average Distance\"])\n",
    "\n",
    "sc.plot()"
   ]
  },
  {
   "cell_type": "code",
   "execution_count": 7,
   "metadata": {},
   "outputs": [
    {
     "data": {
      "image/png": "[encoded data removed]",
      "text/plain": [
       "<Figure size 288x288 with 1 Axes>"
      ]
     },
     "metadata": {
      "needs_background": "light"
     },
     "output_type": "display_data"
    }
   ],
   "source": [
    "sc.plot(highlight=\"06\")  # highlight counties in California (fips code = 06)"
   ]
  }
 ],
 "metadata": {
  "interpreter": {
   "hash": "e5ebdcf54e8deebd90add5288c43d45e3d46d3c0b87a2ec519ec22dd000f117d"
  },
  "kernelspec": {
   "display_name": "Python 3.8.0 64-bit ('myenv': venv)",
   "language": "python",
   "name": "python3"
  },
  "language_info": {
   "codemirror_mode": {
    "name": "ipython",
    "version": 3
   },
   "file_extension": ".py",
   "mimetype": "text/x-python",
   "name": "python",
   "nbconvert_exporter": "python",
   "pygments_lexer": "ipython3",
   "version": "3.8.0"
  },
  "orig_nbformat": 4
 },
 "nbformat": 4,
 "nbformat_minor": 2
}
