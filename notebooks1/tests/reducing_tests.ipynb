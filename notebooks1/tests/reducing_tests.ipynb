{
 "metadata": {
  "language_info": {
   "codemirror_mode": {
    "name": "ipython",
    "version": 3
   },
   "file_extension": ".py",
   "mimetype": "text/x-python",
   "name": "python",
   "nbconvert_exporter": "python",
   "pygments_lexer": "ipython3",
   "version": "3.8.5"
  },
  "orig_nbformat": 2,
  "kernelspec": {
   "name": "python3",
   "display_name": "Python 3.8.5 64-bit ('myenv': venv)"
  },
  "metadata": {
   "interpreter": {
    "hash": "983571a0c964d10a6571f4b3df2ee2ceeacf27d6400d4a9089db863a8e919ce0"
   }
  },
  "interpreter": {
   "hash": "983571a0c964d10a6571f4b3df2ee2ceeacf27d6400d4a9089db863a8e919ce0"
  }
 },
 "nbformat": 4,
 "nbformat_minor": 2,
 "cells": [
  {
   "cell_type": "code",
   "execution_count": 31,
   "metadata": {},
   "outputs": [],
   "source": [
    "# This is not going to be front facing so it's nice if we have\n",
    "# general comments but odn't need documentation or doc strings\n",
    "\n",
    "\"\"\"\n",
    "Utility Reducing Functions for VASA Object\n",
    "-------------------------------------------------------\n",
    "\n",
    "Three types:\n",
    "    * Reducing by count:\n",
    "        Adding up the total number of times the\n",
    "        county attained some LISA classification.\n",
    "\n",
    "    * Reducing by recency:\n",
    "        The last week number of the time a county\n",
    "        attained some LISA classification.\n",
    "\n",
    "    * Reducing by mode:\n",
    "        The most often LISA classification of a county.\n",
    "\"\"\"\n",
    "\n",
    "from typing import List, Tuple, Callable\n",
    "from functools import reduce\n",
    "import numpy as np\n",
    "from scipy.stats import mode\n",
    "\n",
    "HC_List = List[Tuple[int, int]]\n",
    "County_History_List = List[List[int]]\n",
    "County_list = List[int]\n",
    "\n",
    "\n",
    "def reduce_by_count(arr: County_History_List) -> HC_List:\n",
    "\n",
    "    # Start with pairs of 0 for each county\n",
    "    initial: HC_List = [(0, 0) for _ in range(len(arr[0]))]\n",
    "\n",
    "    reducer: Callable[[HC_List, List[int]], HC_List] = lambda acc, curr: [\n",
    "        (a[0] + (c == 1), a[1] + (c == 2)) for a, c in zip(acc, curr)\n",
    "    ]\n",
    "\n",
    "    hh_ll: HC_List = reduce(\n",
    "        reducer,\n",
    "        arr,\n",
    "        initial\n",
    "    )\n",
    "\n",
    "    return hh_ll\n",
    "\n",
    "\n",
    "def reduce_by_count_hh(arr: County_History_List) -> County_list:\n",
    "    return reduce_by_count_equals(arr, 1)\n",
    "\n",
    "\n",
    "def reduce_by_count_ll(arr: County_History_List) -> County_list:\n",
    "    return reduce_by_count_equals(arr, 2)\n",
    "\n",
    "#\n",
    "# No tests since called from reduce_by_count_**\n",
    "#\n",
    "def reduce_by_count_equals(arr: County_History_List, val: int) -> County_list:\n",
    "    return list(reduce(\n",
    "        lambda acc, curr: np.array(acc) + (np.array(curr) == val),\n",
    "        arr,\n",
    "        np.zeros(len(arr[0]))\n",
    "    ))\n",
    "\n",
    "\n",
    "# ughhh this needs to be made better\n",
    "# this should return a date for each classification....\n",
    "def reduce_by_recency(arr: County_History_List) -> County_list:\n",
    "    return [\n",
    "        (hh if clas == 1 else (ll if clas == 2 else 0))\n",
    "        for hh, ll, clas in zip(\n",
    "            reduce_by_recency_hh(arr),\n",
    "            reduce_by_recency_ll(arr),\n",
    "            reduce_by_mode_sig(arr)\n",
    "        )\n",
    "    ]\n",
    "\n",
    "\n",
    "def reduce_by_recency_hh(arr: County_History_List) -> County_list:\n",
    "    return reduce_by_recency_equals(arr, 1)\n",
    "\n",
    "\n",
    "def reduce_by_recency_ll(arr: County_History_List) -> County_list:\n",
    "    return reduce_by_recency_equals(arr, 2)\n",
    "\n",
    "#\n",
    "# THIS MUST ADD 1 so that we can tell the difference between week 0 and no week at all\n",
    "# This doesn't need tests because called from reduce_by_recency_**\n",
    "#\n",
    "def reduce_by_recency_equals(\n",
    "    arr: County_History_List,\n",
    "    val: int\n",
    ") -> County_list:\n",
    "    return [\n",
    "        max([\n",
    "            (idx + 1 if week[county_idx] == val else 0)\n",
    "            for idx, week in enumerate(arr)\n",
    "        ])\n",
    "        for county_idx in range(len(arr[0]))\n",
    "    ]\n",
    "\n",
    "\n",
    "# not really mode b/c prefers sig over non-sig\n",
    "# change to list for loop thingy\n",
    "def reduce_by_mode_sig(arr: County_History_List) -> County_list:\n",
    "    output: County_list = []\n",
    "\n",
    "    for hh, ll in reduce_by_count(arr):\n",
    "        region_class = 1 if hh > ll else 2\n",
    "        output.append(region_class if max(hh, ll) > 0 else 0)\n",
    "\n",
    "    return output\n",
    "\n",
    "\n",
    "def reduce_by_mode(arr: County_History_List) -> County_list:\n",
    "    return [\n",
    "        mode([\n",
    "            week[county_idx]\n",
    "            for week in arr\n",
    "        ])[0][0]  # argh\n",
    "        for county_idx in range(len(arr[0]))\n",
    "    ]\n"
   ]
  },
  {
   "cell_type": "code",
   "execution_count": 32,
   "metadata": {},
   "outputs": [],
   "source": [
    "test = np.array([\n",
    "    [1, 1, 1],\n",
    "    [0, 1, 2],\n",
    "    [0, 0, 2]\n",
    "])"
   ]
  },
  {
   "cell_type": "code",
   "execution_count": 33,
   "metadata": {},
   "outputs": [
    {
     "output_type": "error",
     "ename": "SyntaxError",
     "evalue": "invalid syntax (<ipython-input-33-13d2b7a7d57b>, line 1)",
     "traceback": [
      "\u001b[0;36m  File \u001b[0;32m\"<ipython-input-33-13d2b7a7d57b>\"\u001b[0;36m, line \u001b[0;32m1\u001b[0m\n\u001b[0;31m    def reduce_by_count(arr: County_History_List)\u001b[0m\n\u001b[0m                                                 ^\u001b[0m\n\u001b[0;31mSyntaxError\u001b[0m\u001b[0;31m:\u001b[0m invalid syntax\n"
     ]
    }
   ],
   "source": [
    "def reduce_by_count(arr: County_History_List)\n",
    "\n",
    "def reduce_by_count_hh(arr: County_History_List)\n",
    "def reduce_by_count_ll(arr: County_History_List)\n",
    "def reduce_by_count_equals(arr: County_History_List, val: int)\n",
    "def reduce_by_recency(arr: County_History_List)\n",
    "\n",
    "def reduce_by_recency_hh(arr: County_History_List)\n",
    "def reduce_by_recency_ll(arr: County_History_List)\n",
    "\n",
    "def reduce_by_recency_equals(\n",
    "    arr: County_History_List,\n",
    "    val: int\n",
    ") \n",
    "\n",
    "# not really mode b/c prefers sig over non-sig\n",
    "# change to list for loop thingy\n",
    "def reduce_by_mode_sig(arr: County_History_List)\n",
    "\n",
    "def reduce_by_mode(arr: County_History_List) -> County_list:"
   ]
  },
  {
   "cell_type": "code",
   "execution_count": 34,
   "metadata": {},
   "outputs": [
    {
     "output_type": "execute_result",
     "data": {
      "text/plain": [
       "[1.0, 2.0, 1.0]"
      ]
     },
     "metadata": {},
     "execution_count": 34
    }
   ],
   "source": [
    "reduce_by_count_hh(test)"
   ]
  },
  {
   "cell_type": "code",
   "execution_count": 35,
   "metadata": {},
   "outputs": [],
   "source": [
    "countValue = [(1, 0), (2, 0), (1, 2)]\n",
    "\n",
    "assert reduce_by_count(test) == countValue\n",
    "assert reduce_by_count_hh(test) == [a[0] for a in countValue]\n",
    "assert reduce_by_count_ll(test) == [a[1] for a in countValue]"
   ]
  },
  {
   "cell_type": "code",
   "execution_count": 39,
   "metadata": {},
   "outputs": [],
   "source": [
    "assert reduce_by_recency(test) == [1, 2, 3]\n",
    "assert reduce_by_recency_hh(test) == [1, 2, 1]\n",
    "assert reduce_by_recency_ll(test) == [0, 0, 3]"
   ]
  },
  {
   "cell_type": "code",
   "execution_count": 42,
   "metadata": {},
   "outputs": [],
   "source": [
    "assert reduce_by_mode_sig(test) == [1, 1, 2]\n",
    "assert reduce_by_mode(test) == [0, 1, 2]"
   ]
  }
 ]
}