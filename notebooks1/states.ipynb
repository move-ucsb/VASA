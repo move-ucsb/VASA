{
 "cells": [
  {
   "cell_type": "code",
   "execution_count": null,
   "source": [
    "\n",
    "\n",
    "def _filters(n, coverage=\"usa\", excl_non48=True):\n",
    "    output = True\n",
    "\n",
    "    if n == 11001:  # DC\n",
    "        output = False\n",
    "    if excl_non48 and n >= 2000 and n <= 2999:  # exclude AK\n",
    "        output = False\n",
    "    if excl_non48 and n >= 15001 and n <= 15009:  # exclude HI\n",
    "        output = False\n",
    "    if n >= 60010:  # territories and such\n",
    "        output = False\n",
    "    if n == 53055 or n == 25019:  # ISLANDS WITH NO NEIGHBORS\n",
    "        output = False\n",
    "    if n == 51515:  # Bedford County VA, code was changed in 2013\n",
    "        output = False\n",
    "\n",
    "    return output\n",
    "\n",
    "\n",
    "def filter_data(data, fips_col, coverage=\"usa\", excl_non48=True):\n",
    "    filters = [\n",
    "        _filters(x[fips_col], coverage, excl_non48) for _, x in data.iterrows()\n",
    "    ]\n",
    "    return data.loc[filters]\n",
    "\n",
    "\n",
    "def filter_map(data, coverage=\"usa\", excl_non48=True):\n",
    "    # remove ? - I was doing something different for maps...\n",
    "\n",
    "    filters = [\n",
    "        _filters(x[\"fips\"], coverage, excl_non48) for _, x in data.iterrows()\n",
    "    ]\n",
    "    return data.loc[filters]\n"
   ],
   "outputs": [],
   "metadata": {}
  }
 ],
 "metadata": {
  "orig_nbformat": 4,
  "language_info": {
   "name": "python"
  }
 },
 "nbformat": 4,
 "nbformat_minor": 2
}