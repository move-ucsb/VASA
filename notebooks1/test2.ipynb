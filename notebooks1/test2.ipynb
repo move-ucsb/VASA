{
 "metadata": {
  "language_info": {
   "codemirror_mode": {
    "name": "ipython",
    "version": 3
   },
   "file_extension": ".py",
   "mimetype": "text/x-python",
   "name": "python",
   "nbconvert_exporter": "python",
   "pygments_lexer": "ipython3",
   "version": 3
  },
  "orig_nbformat": 2
 },
 "nbformat": 4,
 "nbformat_minor": 2,
 "cells": [
  {
   "cell_type": "code",
   "execution_count": null,
   "metadata": {},
   "outputs": [],
   "source": [
    "wk0 = [[f, d] for f, d in zip(fips_order, data_usa[\"cmi_7days_rolling_avg\"][0])]\n",
    "wk0 = pd.DataFrame(wk0, columns=[\"fips\", \"class\"])\n",
    "wk0[\"week\"] = 0\n",
    "\n",
    "wk1 = [[f, d] for f, d in zip(fips_order, data_usa[\"cmi_7days_rolling_avg\"][1])]\n",
    "wk1 = pd.DataFrame(wk1, columns=[\"fips\", \"class\"])\n",
    "wk1[\"week\"] = 1\n",
    "\n",
    "wk2 = [[f, d] for f, d in zip(fips_order, data_usa[\"cmi_7days_rolling_avg\"][2])]\n",
    "wk2 = pd.DataFrame(wk2, columns=[\"fips\", \"class\"])\n",
    "wk2[\"week\"] = 2\n",
    "\n",
    "wk = wk0.append(wk1).append(wk2).reset_index()"
   ]
  },
  {
   "cell_type": "code",
   "execution_count": null,
   "metadata": {},
   "outputs": [],
   "source": [
    "plotmap = gpd.GeoDataFrame.from_features(usa_map_data[\"features\"])\n",
    "plotmap = plotmap.assign(fips=[int(g) for g in plotmap[\"GEOID\"]])\n",
    "\n",
    "gdf = plotmap.merge(wk, left_on=\"fips\", right_on=\"fips\", how=\"right\")[[\"geometry\", \"class\", \"fips\", \"week\"]]\n",
    "gdf[\"centroid_lon\"] = gdf[\"geometry\"].centroid.x\n",
    "gdf[\"centroid_lat\"] = gdf[\"geometry\"].centroid.y"
   ]
  },
  {
   "cell_type": "code",
   "execution_count": null,
   "metadata": {},
   "outputs": [],
   "source": [
    "import json"
   ]
  },
  {
   "cell_type": "code",
   "execution_count": null,
   "metadata": {},
   "outputs": [],
   "source": [
    "import altair as alt\n",
    "choro_json = json.loads(gdf.to_json())\n",
    "choro_data = alt.Data(values=choro_json[\"features\"])"
   ]
  },
  {
   "cell_type": "code",
   "execution_count": null,
   "metadata": {},
   "outputs": [],
   "source": [
    "date_slider = alt.binding_range(min=0, max=2, step=1)\n",
    "slider_selection = alt.selection_single(\n",
    "    bind=date_slider,\n",
    "    fields=[\"properties.week\"],\n",
    "    name=\"Week #:\",\n",
    "    init={ \"properties.week\": 1 },\n",
    "    # on=\"none\"\n",
    ")\n",
    "\n",
    "base = alt.Chart(plotmap).mark_geoshape(\n",
    "    stroke=\"black\",\n",
    "    fill=\"#FFFFFF00\",\n",
    "    strokeWidth=1\n",
    ").encode().properties(width=800, height=600).project(type=\"albersUsa\")\n",
    "\n",
    "\n",
    "choro = alt.Chart(choro_data).mark_geoshape(\n",
    "    # fill=\"lightgray\",\n",
    "    stroke=\"black\"\n",
    ").encode(\n",
    "    color=alt.Color(\"properties.class:O\", scale=alt.Scale(scheme=\"category10\")),\n",
    "    tooltip=[\"properties.fips:O\"]\n",
    ").add_selection(\n",
    "    slider_selection\n",
    ").transform_filter(\n",
    "    slider_selection\n",
    ")\n",
    "chart = base + choro\n",
    "chart \n",
    "\n",
    "# chart.save(\"chart.html\")"
   ]
  },
  {
   "cell_type": "code",
   "execution_count": null,
   "metadata": {},
   "outputs": [],
   "source": [
    "choro_json = json.loads(gdf.to_json())\n",
    "choro_data = alt.Data(values=choro_json[\"features\"])"
   ]
  },
  {
   "cell_type": "code",
   "execution_count": null,
   "metadata": {},
   "outputs": [],
   "source": [
    "date_slider = alt.binding_range(min=0, max=2, step=1)\n",
    "slider_selection = alt.selection_single(\n",
    "    bind=date_slider,\n",
    "    fields=[\"week\"],\n",
    "    name=\"Week #:\",\n",
    "    init={ \"week\": 1 },\n",
    "    # on=\"none\"\n",
    ")\n",
    "\n",
    "alt.data_transformers.enable(\"json\")\n",
    "\n",
    "base = alt.Chart(plotmap).mark_geoshape(\n",
    "    stroke=\"black\",\n",
    "    fill=\"#FFFFFF00\",\n",
    "    strokeWidth=1\n",
    ").add_selection(\n",
    "    slider_selection\n",
    ").transform_filter(\n",
    "    slider_selection\n",
    ").encode(\n",
    "    color=alt.Color(\"properties.class:O\", scale=alt.Scale(scheme=\"category10\"))\n",
    ").transform_lookup(\n",
    "    lookup=\"fips\",\n",
    "    from_=alt.LookupData(wk, \"fips\", [\"class\"])\n",
    ").properties(width=800, height=600).project(type=\"albersUsa\")\n",
    "\n",
    "base"
   ]
  }
 ]
}